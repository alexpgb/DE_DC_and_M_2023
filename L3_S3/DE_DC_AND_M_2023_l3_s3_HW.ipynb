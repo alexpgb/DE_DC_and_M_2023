{
 "cells": [
  {
   "cell_type": "code",
   "execution_count": 2,
   "metadata": {},
   "outputs": [],
   "source": [
    "import pymongo\n",
    "import json\n",
    "from pprint import pprint\n",
    "import re\n",
    "from bson.objectid import ObjectId"
   ]
  },
  {
   "cell_type": "code",
   "execution_count": 3,
   "metadata": {},
   "outputs": [],
   "source": [
    "client = pymongo.MongoClient(\"mongodb://localhost:27017/\")"
   ]
  },
  {
   "cell_type": "code",
   "execution_count": 8,
   "metadata": {},
   "outputs": [
    {
     "name": "stdout",
     "output_type": "stream",
     "text": [
      "<class 'pymongo.command_cursor.CommandCursor'>\n",
      "[{'empty': False, 'name': 'admin', 'sizeOnDisk': 32768.0},\n",
      " {'empty': False, 'name': 'books', 'sizeOnDisk': 110592.0},\n",
      " {'empty': False, 'name': 'config', 'sizeOnDisk': 98304.0},\n",
      " {'empty': False, 'name': 'email', 'sizeOnDisk': 532480.0},\n",
      " {'empty': False, 'name': 'instagram', 'sizeOnDisk': 581632.0},\n",
      " {'empty': False, 'name': 'local', 'sizeOnDisk': 135168.0},\n",
      " {'empty': False, 'name': 'news', 'sizeOnDisk': 135168.0},\n",
      " {'empty': False, 'name': 'products', 'sizeOnDisk': 143360.0},\n",
      " {'empty': False, 'name': 'town_cary', 'sizeOnDisk': 8462336.0},\n",
      " {'empty': False, 'name': 'vacancy', 'sizeOnDisk': 135168.0}]\n"
     ]
    }
   ],
   "source": [
    "# Отобразить список баз данных c дополнительный информацией\n",
    "print(type(client.list_databases()))\n",
    "pprint(list(client.list_databases()))"
   ]
  },
  {
   "cell_type": "code",
   "execution_count": 9,
   "metadata": {},
   "outputs": [
    {
     "data": {
      "text/plain": [
       "['admin',\n",
       " 'books',\n",
       " 'config',\n",
       " 'email',\n",
       " 'instagram',\n",
       " 'local',\n",
       " 'news',\n",
       " 'products',\n",
       " 'town_cary',\n",
       " 'vacancy']"
      ]
     },
     "execution_count": 9,
     "metadata": {},
     "output_type": "execute_result"
    }
   ],
   "source": [
    "# Отбразить только наименования баз данных\n",
    "client.list_database_names()"
   ]
  },
  {
   "cell_type": "code",
   "execution_count": 11,
   "metadata": {},
   "outputs": [
    {
     "data": {
      "text/plain": [
       "{'ok': 1.0}"
      ]
     },
     "execution_count": 11,
     "metadata": {},
     "output_type": "execute_result"
    }
   ],
   "source": [
    "# Переименование базы данных. База данных town_cary имеет некорректное наименование\n",
    "client.admin.command('copydb', fromdb='town_cary', todb='town_cars')\n"
   ]
  },
  {
   "cell_type": "code",
   "execution_count": 16,
   "metadata": {},
   "outputs": [
    {
     "name": "stdout",
     "output_type": "stream",
     "text": [
      "[{'empty': False, 'name': 'town_cars', 'sizeOnDisk': 8462336.0},\n",
      " {'empty': False, 'name': 'town_cary', 'sizeOnDisk': 8462336.0}]\n"
     ]
    }
   ],
   "source": [
    "# Посмотрим, что получилось\n",
    "pprint([db_name for db_name in  client.list_databases() if re.match(r'^town', db_name['name'])])"
   ]
  },
  {
   "cell_type": "code",
   "execution_count": 17,
   "metadata": {},
   "outputs": [],
   "source": [
    "# Создалась копия базы данных точно такого же размера\n",
    "# Удалим базу данных с некорректным наименованием.\n",
    "client.drop_database('town_cary')"
   ]
  },
  {
   "cell_type": "code",
   "execution_count": 18,
   "metadata": {},
   "outputs": [
    {
     "name": "stdout",
     "output_type": "stream",
     "text": [
      "[{'empty': False, 'name': 'town_cars', 'sizeOnDisk': 8462336.0}]\n"
     ]
    }
   ],
   "source": [
    "# Проверим удаление\n",
    "pprint([db_name for db_name in  client.list_databases() if re.match(r'^town', db_name['name'])])"
   ]
  },
  {
   "cell_type": "code",
   "execution_count": 27,
   "metadata": {},
   "outputs": [
    {
     "data": {
      "text/plain": [
       "pymongo.database.Database"
      ]
     },
     "execution_count": 27,
     "metadata": {},
     "output_type": "execute_result"
    }
   ],
   "source": [
    "#Подключимся к базе данных. Если указанного имени нет, то база данных будет создана. База данных books уже есть на сервере\n",
    "db = client['books']\n",
    "type(db)"
   ]
  },
  {
   "cell_type": "code",
   "execution_count": 27,
   "metadata": {},
   "outputs": [
    {
     "name": "stdout",
     "output_type": "stream",
     "text": [
      "['content']\n",
      "[{'idIndex': {'key': {'_id': 1}, 'name': '_id_', 'ns': 'books.content', 'v': 2},\n",
      "  'info': {'readOnly': False,\n",
      "           'uuid': Binary(b'\\xb3p\\xb4\\x19\\x94XD\\x99\\x8f\\x92\\xc1\\xa9t0@d', 4)},\n",
      "  'name': 'content',\n",
      "  'options': {},\n",
      "  'type': 'collection'}]\n"
     ]
    }
   ],
   "source": [
    "# Узнаем какие коллекции есть в базе данных\n",
    "print(db.list_collection_names()) # отобразит только наименования коллекций\n",
    "pprint(list(db.list_collections())) # отобразит наименование коллекции и сервисаую информцию о коллекции."
   ]
  },
  {
   "cell_type": "code",
   "execution_count": 28,
   "metadata": {},
   "outputs": [
    {
     "data": {
      "text/plain": [
       "pymongo.collection.Collection"
      ]
     },
     "execution_count": 28,
     "metadata": {},
     "output_type": "execute_result"
    }
   ],
   "source": [
    "# Создадим коллкцию в БД\n",
    "col = db['books_from_toscrape_com']\n",
    "type(col)"
   ]
  },
  {
   "cell_type": "code",
   "execution_count": 29,
   "metadata": {},
   "outputs": [],
   "source": [
    "from pathlib import Path"
   ]
  },
  {
   "cell_type": "code",
   "execution_count": 31,
   "metadata": {},
   "outputs": [
    {
     "data": {
      "text/plain": [
       "True"
      ]
     },
     "execution_count": 31,
     "metadata": {},
     "output_type": "execute_result"
    }
   ],
   "source": [
    "# Зададим имя файла и проверим существует ли он\n",
    "source_file_name = '../L2_S2/l2_s2_t2_hw.json'\n",
    "Path(source_file_name).exists()"
   ]
  },
  {
   "cell_type": "code",
   "execution_count": 33,
   "metadata": {},
   "outputs": [
    {
     "name": "stdout",
     "output_type": "stream",
     "text": [
      "{'name': 'A Light in the Attic', 'price': '51.77', 'avaiability': 1, 'url': '/catalogue/a-light-in-the-attic_1000/index.html', 'quantity': 22}\n",
      "{'name': 'Tipping the Velvet', 'price': '53.74', 'avaiability': 1, 'url': '/catalogue/tipping-the-velvet_999/index.html', 'quantity': 20}\n",
      "{'name': 'Soumission', 'price': '50.10', 'avaiability': 1, 'url': '/catalogue/soumission_998/index.html', 'quantity': 20}\n",
      "{'name': 'Sharp Objects', 'price': '47.82', 'avaiability': 1, 'url': '/catalogue/sharp-objects_997/index.html', 'quantity': 20}\n",
      "{'name': 'Sapiens: A Brief History of Humankind', 'price': '54.23', 'avaiability': 1, 'url': '/catalogue/sapiens-a-brief-history-of-humankind_996/index.html', 'quantity': 20}\n"
     ]
    }
   ],
   "source": [
    "# Загрузим данные из файла в переменную\n",
    "with open(source_file_name, 'r', encoding='utf-8') as f:\n",
    "    content = json.load(f)\n",
    "row_num_max = 5\n",
    "for row_num, row in enumerate(content):\n",
    "    print(row)\n",
    "    if row_num  >= row_num_max - 1:\n",
    "        break"
   ]
  },
  {
   "cell_type": "code",
   "execution_count": 34,
   "metadata": {},
   "outputs": [],
   "source": [
    "# Видим, что цена сохранилась не как число. Проверим для всех ли чисел возможно ли преобразование во float\n",
    "for row in content:\n",
    "    try:\n",
    "        float(row['price'])\n",
    "    except:\n",
    "        print(row['price'])"
   ]
  },
  {
   "cell_type": "code",
   "execution_count": 35,
   "metadata": {},
   "outputs": [],
   "source": [
    "# Все ок, можно преобразовывать\n",
    "for row in content:\n",
    "        row['price'] = float(row['price'])"
   ]
  },
  {
   "cell_type": "code",
   "execution_count": 37,
   "metadata": {},
   "outputs": [
    {
     "data": {
      "text/plain": [
       "[51.77, 53.74, 50.1, 47.82, 54.23, 22.65, 33.34, 17.93, 22.6, 52.15]"
      ]
     },
     "execution_count": 37,
     "metadata": {},
     "output_type": "execute_result"
    }
   ],
   "source": [
    "# Проверим результат преобазования\n",
    "[content[i]['price'] for i in range(10)]"
   ]
  },
  {
   "cell_type": "code",
   "execution_count": 69,
   "metadata": {},
   "outputs": [],
   "source": [
    "def chunk_data(data:iter, chunk_size:int)->any:\n",
    "    \"\"\"\n",
    "    Возвращает итерируемый объект частями, с размерм части в chunk_sise элементов.\n",
    "    \"\"\"\n",
    "    for i in range(0, len(data), chunk_size):\n",
    "        yield data[i:i + chunk_size]"
   ]
  },
  {
   "cell_type": "code",
   "execution_count": 39,
   "metadata": {},
   "outputs": [],
   "source": [
    "chunk_size = 50  # количество записей в chunk-е\n"
   ]
  },
  {
   "cell_type": "code",
   "execution_count": 47,
   "metadata": {},
   "outputs": [
    {
     "data": {
      "text/plain": [
       "{'name': 'Immunity: How Elie Metchnikoff Changed the Course of Modern Medicine',\n",
       " 'price': 57.36,\n",
       " 'avaiability': 1,\n",
       " 'url': '/catalogue/immunity-how-elie-metchnikoff-changed-the-course-of-modern-medicine_900/index.html',\n",
       " 'quantity': 16}"
      ]
     },
     "execution_count": 47,
     "metadata": {},
     "output_type": "execute_result"
    }
   ],
   "source": [
    "content[100]"
   ]
  },
  {
   "cell_type": "code",
   "execution_count": 62,
   "metadata": {},
   "outputs": [
    {
     "data": {
      "text/plain": [
       "InsertOneResult(ObjectId('65b62bd7d85087ece19e842c'), acknowledged=True)"
      ]
     },
     "execution_count": 62,
     "metadata": {},
     "output_type": "execute_result"
    }
   ],
   "source": [
    "col.insert_one(content[0])\n",
    "col.insert_one(content[100])"
   ]
  },
  {
   "cell_type": "code",
   "execution_count": 63,
   "metadata": {},
   "outputs": [
    {
     "name": "stdout",
     "output_type": "stream",
     "text": [
      "[{'_id': ObjectId('65b62e5cd85087ece19e842d'),\n",
      "  'avaiability': 1,\n",
      "  'name': 'A Light in the Attic',\n",
      "  'price': 51.77,\n",
      "  'quantity': 22,\n",
      "  'url': '/catalogue/a-light-in-the-attic_1000/index.html'},\n",
      " {'_id': ObjectId('65b62bd7d85087ece19e842c'),\n",
      "  'avaiability': 1,\n",
      "  'name': 'Immunity: How Elie Metchnikoff Changed the Course of Modern '\n",
      "          'Medicine',\n",
      "  'price': 57.36,\n",
      "  'quantity': 16,\n",
      "  'url': '/catalogue/immunity-how-elie-metchnikoff-changed-the-course-of-modern-medicine_900/index.html'}]\n"
     ]
    }
   ],
   "source": [
    "pprint(list(col.find({})))"
   ]
  },
  {
   "cell_type": "code",
   "execution_count": 64,
   "metadata": {},
   "outputs": [
    {
     "data": {
      "text/plain": [
       "2"
      ]
     },
     "execution_count": 64,
     "metadata": {},
     "output_type": "execute_result"
    }
   ],
   "source": [
    "# Посчитаем количество записей в базе\n",
    "col.count_documents({})"
   ]
  },
  {
   "cell_type": "code",
   "execution_count": 65,
   "metadata": {},
   "outputs": [
    {
     "data": {
      "text/plain": [
       "DeleteResult({'n': 1, 'ok': 1.0}, acknowledged=True)"
      ]
     },
     "execution_count": 65,
     "metadata": {},
     "output_type": "execute_result"
    }
   ],
   "source": [
    "# Удалим вставленное значение\n",
    "col.delete_many({\"_id\":ObjectId('65b62bd7d85087ece19e842c')})"
   ]
  },
  {
   "cell_type": "code",
   "execution_count": 66,
   "metadata": {},
   "outputs": [
    {
     "name": "stdout",
     "output_type": "stream",
     "text": [
      "[{'_id': ObjectId('65b62e5cd85087ece19e842d'),\n",
      "  'avaiability': 1,\n",
      "  'name': 'A Light in the Attic',\n",
      "  'price': 51.77,\n",
      "  'quantity': 22,\n",
      "  'url': '/catalogue/a-light-in-the-attic_1000/index.html'}]\n"
     ]
    }
   ],
   "source": [
    "pprint(list(col.find({})))"
   ]
  },
  {
   "cell_type": "code",
   "execution_count": 80,
   "metadata": {},
   "outputs": [
    {
     "name": "stdout",
     "output_type": "stream",
     "text": [
      "[]\n"
     ]
    }
   ],
   "source": [
    "# Удалим все записи коллекции\n",
    "col.delete_many({})\n",
    "pprint(list(col.find({})))"
   ]
  },
  {
   "cell_type": "code",
   "execution_count": 81,
   "metadata": {},
   "outputs": [
    {
     "name": "stdout",
     "output_type": "stream",
     "text": [
      "Обработано записей : 1000. Вставлено записей : 1000\n"
     ]
    }
   ],
   "source": [
    "# Загрузим данные в БД\n",
    "processed_rows = 0\n",
    "inserted_rows = 0\n",
    "for chunk in chunk_data(content, chunk_size):\n",
    "    res = col.insert_many(chunk)\n",
    "    processed_rows += len(chunk)\n",
    "    if res.acknowledged:\n",
    "        inserted_rows += len(res.inserted_ids)\n",
    "print(f'Обработано записей : {processed_rows}. Вставлено записей : {inserted_rows}')\n"
   ]
  },
  {
   "cell_type": "code",
   "execution_count": 83,
   "metadata": {},
   "outputs": [
    {
     "data": {
      "text/plain": [
       "1000"
      ]
     },
     "execution_count": 83,
     "metadata": {},
     "output_type": "execute_result"
    }
   ],
   "source": [
    "# Ппроверим, что все документы вставлены\n",
    "col.count_documents({})"
   ]
  },
  {
   "cell_type": "code",
   "execution_count": 94,
   "metadata": {},
   "outputs": [
    {
     "name": "stdout",
     "output_type": "stream",
     "text": [
      "[{'_id': 'price', 'avg': 35.07035, 'max': 59.99, 'min': 10.0}]\n"
     ]
    }
   ],
   "source": [
    "# Посчитаем статистики для цены\n",
    "pprint(list(col.aggregate([{'$group': {'_id':'price', 'min':{'$min':'$price'}, 'max':{'$max':'$price'}, 'avg':{'$avg':'$price'}}}])))"
   ]
  },
  {
   "cell_type": "code",
   "execution_count": 100,
   "metadata": {},
   "outputs": [
    {
     "name": "stdout",
     "output_type": "stream",
     "text": [
      "[]\n"
     ]
    }
   ],
   "source": [
    "# Найдем названия книг не доступные для заказа (выведем первые 3 возвращенные записей)\n",
    "pprint(list(col.find({'avaiability':{'$eq': 0}}))[:3]) # - книг не доступных для заказа нет\n"
   ]
  },
  {
   "cell_type": "code",
   "execution_count": 103,
   "metadata": {},
   "outputs": [
    {
     "name": "stdout",
     "output_type": "stream",
     "text": [
      "[]\n"
     ]
    }
   ],
   "source": [
    "# Найдем названия книг с количеством меньшим 1)\n",
    "pprint(list(\n",
    "    col.find({'quantity':{'$lt': 1}})\n",
    "    )[:3]) # - книг с количеством доступности менее 1 нет. Данные по доступности и количеству, размещенные на сайте, коррелируют между собой"
   ]
  },
  {
   "cell_type": "code",
   "execution_count": 111,
   "metadata": {},
   "outputs": [
    {
     "name": "stdout",
     "output_type": "stream",
     "text": [
      "[{'name': 'World Without End (The Pillars of the Earth #2)'},\n",
      " {'name': 'Will Grayson, Will Grayson (Will Grayson, Will Grayson)'},\n",
      " {'name': 'Why Save the Bankers?: And Other Essays on Our Economic and '\n",
      "          'Political Crisis'},\n",
      " {'name': 'Where She Went (If I Stay #2)'},\n",
      " {'name': 'What If?: Serious Scientific Answers to Absurd Hypothetical '\n",
      "          'Questions'}]\n"
     ]
    }
   ],
   "source": [
    "# Выведем названия книг для доступного количества равного 5 (первые 3)\n",
    "pprint(list(\n",
    "    col.find({'quantity':{'$eq': 5}}, {'_id':0, 'name':1})\n",
    "    )[:5])"
   ]
  },
  {
   "cell_type": "code",
   "execution_count": 124,
   "metadata": {},
   "outputs": [
    {
     "data": {
      "text/plain": [
       "[{'_id': {'quantity_in_store': 1}, 'books_count': 98},\n",
       " {'_id': {'quantity_in_store': 2}, 'books_count': 14},\n",
       " {'_id': {'quantity_in_store': 3}, 'books_count': 196},\n",
       " {'_id': {'quantity_in_store': 4}, 'books_count': 47},\n",
       " {'_id': {'quantity_in_store': 5}, 'books_count': 65},\n",
       " {'_id': {'quantity_in_store': 6}, 'books_count': 35},\n",
       " {'_id': {'quantity_in_store': 7}, 'books_count': 53},\n",
       " {'_id': {'quantity_in_store': 8}, 'books_count': 47},\n",
       " {'_id': {'quantity_in_store': 9}, 'books_count': 25},\n",
       " {'_id': {'quantity_in_store': 10}, 'books_count': 2},\n",
       " {'_id': {'quantity_in_store': 11}, 'books_count': 28},\n",
       " {'_id': {'quantity_in_store': 12}, 'books_count': 34},\n",
       " {'_id': {'quantity_in_store': 13}, 'books_count': 5},\n",
       " {'_id': {'quantity_in_store': 14}, 'books_count': 136},\n",
       " {'_id': {'quantity_in_store': 15}, 'books_count': 87},\n",
       " {'_id': {'quantity_in_store': 16}, 'books_count': 84},\n",
       " {'_id': {'quantity_in_store': 17}, 'books_count': 5},\n",
       " {'_id': {'quantity_in_store': 18}, 'books_count': 11},\n",
       " {'_id': {'quantity_in_store': 19}, 'books_count': 23},\n",
       " {'_id': {'quantity_in_store': 20}, 'books_count': 4},\n",
       " {'_id': {'quantity_in_store': 22}, 'books_count': 1}]"
      ]
     },
     "execution_count": 124,
     "metadata": {},
     "output_type": "execute_result"
    }
   ],
   "source": [
    "# посчитаем количество книг в разрезе их количества в доступности и выведем в порядке возрастания\n",
    "list(col.aggregate([{'$group':{'_id':{'quantity_in_store':'$quantity'}, 'books_count':{'$sum':1}}},{'$sort':{'_id.quantity_in_store':1}}]))"
   ]
  },
  {
   "cell_type": "code",
   "execution_count": 130,
   "metadata": {},
   "outputs": [
    {
     "data": {
      "text/plain": [
       "'65b632f8d85087ece19e8437'"
      ]
     },
     "execution_count": 130,
     "metadata": {},
     "output_type": "execute_result"
    }
   ],
   "source": [
    "# В целях тестирования найдем случайную запись из коллекции и поменяем у нее признак доступности и количество на складе\n",
    "# query = \n",
    "id = str(list(col.find({},{'_id':1}).skip(10).limit(1))[0]['_id'])\n",
    "id"
   ]
  },
  {
   "cell_type": "code",
   "execution_count": 136,
   "metadata": {},
   "outputs": [
    {
     "data": {
      "text/plain": [
       "{'_id': ObjectId('65b632f8d85087ece19e8437'),\n",
       " 'name': 'Starving Hearts (Triangular Trade Trilogy, #1)',\n",
       " 'price': 13.99,\n",
       " 'avaiability': 1,\n",
       " 'url': '/catalogue/starving-hearts-triangular-trade-trilogy-1_990/index.html',\n",
       " 'quantity': 19}"
      ]
     },
     "execution_count": 136,
     "metadata": {},
     "output_type": "execute_result"
    }
   ],
   "source": [
    "# Выведем запись с найденным id\n",
    "col.find_one({'_id':{'$eq':ObjectId(id)}})"
   ]
  },
  {
   "cell_type": "code",
   "execution_count": 137,
   "metadata": {},
   "outputs": [
    {
     "data": {
      "text/plain": [
       "UpdateResult({'n': 1, 'nModified': 1, 'ok': 1.0, 'updatedExisting': True}, acknowledged=True)"
      ]
     },
     "execution_count": 137,
     "metadata": {},
     "output_type": "execute_result"
    }
   ],
   "source": [
    "col.update_one({'_id':{'$eq':ObjectId(id)}},{'$set':{'avaiability':0, 'quantity': 0}})"
   ]
  },
  {
   "cell_type": "code",
   "execution_count": 138,
   "metadata": {},
   "outputs": [
    {
     "data": {
      "text/plain": [
       "{'_id': ObjectId('65b632f8d85087ece19e8437'),\n",
       " 'name': 'Starving Hearts (Triangular Trade Trilogy, #1)',\n",
       " 'price': 13.99,\n",
       " 'avaiability': 0,\n",
       " 'url': '/catalogue/starving-hearts-triangular-trade-trilogy-1_990/index.html',\n",
       " 'quantity': 0}"
      ]
     },
     "execution_count": 138,
     "metadata": {},
     "output_type": "execute_result"
    }
   ],
   "source": [
    "col.find_one({'_id':{'$eq':ObjectId(id)}})"
   ]
  },
  {
   "cell_type": "code",
   "execution_count": 29,
   "metadata": {},
   "outputs": [
    {
     "data": {
      "text/plain": [
       "[{'_id': {'quantity_in_store': 0}, 'books_count': 1}]"
      ]
     },
     "execution_count": 29,
     "metadata": {},
     "output_type": "execute_result"
    }
   ],
   "source": [
    "# Отобразим количество книг с минимальным количеством на складе\n",
    "list(col.aggregate([{'$group':{'_id':{'quantity_in_store':'$quantity'}, 'books_count':{'$sum':1}}},{'$sort':{'_id.quantity_in_store':1}},{'$limit':1}]))"
   ]
  },
  {
   "cell_type": "code",
   "execution_count": 36,
   "metadata": {},
   "outputs": [
    {
     "name": "stdout",
     "output_type": "stream",
     "text": [
      "#1. Наименование : The Requiem Red. Цена (EUR): 22.65. Количество на складе : 19. Подробная информация : /catalogue/the-requiem-red_995/index.html.\n",
      "#2. Наименование : The Dirty Little Secrets of Getting Your Dream Job. Цена (EUR): 33.34. Количество на складе : 19. Подробная информация : /catalogue/the-dirty-little-secrets-of-getting-your-dream-job_994/index.html.\n",
      "#3. Наименование : The Coming Woman: A Novel Based on the Life of the Infamous Feminist, Victoria Woodhull. Цена (EUR): 17.93. Количество на складе : 19. Подробная информация : /catalogue/the-coming-woman-a-novel-based-on-the-life-of-the-infamous-feminist-victoria-woodhull_993/index.html.\n",
      "#4. Наименование : The Boys in the Boat: Nine Americans and Their Epic Quest for Gold at the 1936 Berlin Olympics. Цена (EUR): 22.6. Количество на складе : 19. Подробная информация : /catalogue/the-boys-in-the-boat-nine-americans-and-their-epic-quest-for-gold-at-the-1936-berlin-olympics_992/index.html.\n",
      "#5. Наименование : The Black Maria. Цена (EUR): 52.15. Количество на складе : 19. Подробная информация : /catalogue/the-black-maria_991/index.html.\n",
      "Показано записей : 5. Найдено записей : 357\n"
     ]
    }
   ],
   "source": [
    "# Научимся искать книги по наименованию.\n",
    "str_for_quit = 'q'\n",
    "max_doc_num_print = 5\n",
    "while True:\n",
    "    search_str = input(f'Укажите шаблон для поиска по Наименованию книги ({str_for_quit}-выход) : ').strip()\n",
    "    if search_str == str_for_quit:\n",
    "        print('quit')\n",
    "        break\n",
    "    query = {'name':{'$regex': search_str}}\n",
    "    # print(query)\n",
    "    doc_count = col.count_documents(query)\n",
    "    if doc_count <= 0:\n",
    "        print(f'По запросу не найдено ни одного документа')\n",
    "    cur = col.find(query)\n",
    "    for doc_num, row in enumerate(cur,  start=1):\n",
    "        print(f'#{doc_num}. Наименование : {row.get(\"name\")}. Цена (EUR): {row.get(\"price\", \"n/a\")}. Количество на складе : {row.get(\"quantity\", \"n/a\")}. Подробная информация : {row.get(\"url\", \"n/a\")}.')\n",
    "        if doc_num >= max_doc_num_print:\n",
    "            break\n",
    "    print(f'Показано записей : {doc_num}. Найдено записей : {doc_count}')\n"
   ]
  },
  {
   "cell_type": "code",
   "execution_count": 32,
   "metadata": {},
   "outputs": [
    {
     "data": {
      "text/plain": [
       "\"{'name':{'$regex':'The'}}\""
      ]
     },
     "execution_count": 32,
     "metadata": {},
     "output_type": "execute_result"
    }
   ],
   "source": [
    "query = f\"{{'name':{{'$regex':\\'{search_str}\\'}}}}\"\n",
    "query"
   ]
  },
  {
   "cell_type": "code",
   "execution_count": 33,
   "metadata": {},
   "outputs": [
    {
     "data": {
      "text/plain": [
       "\"{'name':{'$regex':'The'}}\""
      ]
     },
     "execution_count": 33,
     "metadata": {},
     "output_type": "execute_result"
    }
   ],
   "source": [
    "query = u\"{{'name':{{'$regex':\\'{__search_str__}\\'}}}}\"\n",
    "query.format(__search_str__= search_str )"
   ]
  },
  {
   "cell_type": "code",
   "execution_count": null,
   "metadata": {},
   "outputs": [],
   "source": []
  }
 ],
 "metadata": {
  "kernelspec": {
   "display_name": "venv_cource_de_ad_and_m_2023",
   "language": "python",
   "name": "python3"
  },
  "language_info": {
   "codemirror_mode": {
    "name": "ipython",
    "version": 3
   },
   "file_extension": ".py",
   "mimetype": "text/x-python",
   "name": "python",
   "nbconvert_exporter": "python",
   "pygments_lexer": "ipython3",
   "version": "3.10.6"
  }
 },
 "nbformat": 4,
 "nbformat_minor": 2
}
